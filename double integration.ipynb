{
 "cells": [
  {
   "cell_type": "markdown",
   "id": "cab95996",
   "metadata": {},
   "source": [
    "#                                                         DOUBLE INTEGRATION"
   ]
  },
  {
   "cell_type": "code",
   "execution_count": 33,
   "id": "10594a4f",
   "metadata": {},
   "outputs": [
    {
     "name": "stdout",
     "output_type": "stream",
     "text": [
      "Enter the lower limit of x integral:0\n",
      "Enter the upper limit of x integral:1\n",
      "Enter the lower limit of y integral:0\n",
      "Enter the upper limit of y integral:1\n",
      "Enter the interval:6\n",
      "[[0.         0.         0.         0.         0.         0.\n",
      "  0.        ]\n",
      " [0.         0.02777778 0.05555556 0.08333333 0.11111111 0.13888889\n",
      "  0.16666667]\n",
      " [0.         0.05555556 0.11111111 0.16666667 0.22222222 0.27777778\n",
      "  0.33333333]\n",
      " [0.         0.08333333 0.16666667 0.25       0.33333333 0.41666667\n",
      "  0.5       ]\n",
      " [0.         0.11111111 0.22222222 0.33333333 0.44444444 0.55555556\n",
      "  0.66666667]\n",
      " [0.         0.13888889 0.27777778 0.41666667 0.55555556 0.69444444\n",
      "  0.83333333]\n",
      " [0.         0.16666667 0.33333333 0.5        0.66666667 0.83333333\n",
      "  1.        ]]\n"
     ]
    }
   ],
   "source": [
    "import numpy as np\n",
    "import math\n",
    "\n",
    "# inserting the limiting value and interval\n",
    "\n",
    "l_x = float(input(\"Enter the lower limit of x integral:\"))\n",
    "u_x = float(input(\"Enter the upper limit of x integral:\"))\n",
    "l_y = float(input(\"Enter the lower limit of y integral:\"))\n",
    "u_y = float(input(\"Enter the upper limit of y integral:\"))\n",
    "\n",
    "N = int(input(\"Enter the interval:\"))\n",
    "\n",
    "h = (u_x-l_x)/N\n",
    "k = (u_y-l_y)/N\n",
    "\n",
    "\n",
    "# defining function to be ingrated \n",
    "def f(x,y):\n",
    "    return x*y;           #1/(x*y)       #2*x*y+2*x-x**2-2*y**2+72 ##np.exp(x+y)\n",
    "\n",
    "\n",
    "#  converting the function in the matrix form\n",
    "f_xy = np.zeros((N+1,N+1))\n",
    "\n",
    "for i in range(0,N+1):\n",
    "    for j in range(0,N+1):\n",
    "        f_xy[i,j] = f((l_x+(h*(i))),(l_y+(k*(j))))\n",
    "print(f_xy)"
   ]
  },
  {
   "cell_type": "markdown",
   "id": "b5c193f6",
   "metadata": {},
   "source": [
    "## Trapezoidal Integration"
   ]
  },
  {
   "cell_type": "code",
   "execution_count": 34,
   "id": "90fbad34",
   "metadata": {},
   "outputs": [
    {
     "name": "stdout",
     "output_type": "stream",
     "text": [
      "The trapezoidal integration result is:  0.24999999999999994\n"
     ]
    }
   ],
   "source": [
    "def trapezoidal(z): \n",
    "    \n",
    "    # working with the y integral\n",
    "    x = np.zeros(N+1)\n",
    "    for i in range(0,N+1):\n",
    "        for j in range(0,N+1):\n",
    "            if j==0 or j==N:\n",
    "                x[i] = x[i] + (z[i,j]/2)\n",
    "            elif j>0 and j!=N:\n",
    "                x[i] = x[i] + z[i,j]\n",
    "    x = h*x\n",
    "    #print(x)\n",
    "    \n",
    "    # working with the x integral\n",
    "    integration = 0\n",
    "    for i in range(0,N+1):\n",
    "        if i==0 or i==N:\n",
    "            integration = integration + (x[i]/2)\n",
    "        elif i>0 and i!=N:\n",
    "            integration = integration + x[i]\n",
    "\n",
    "    integration = k*integration\n",
    "    return integration\n",
    "\n",
    "result = trapezoidal(f_xy)\n",
    "print(\"The trapezoidal integration result is: \",result)"
   ]
  },
  {
   "cell_type": "markdown",
   "id": "c0591b99",
   "metadata": {},
   "source": [
    "### Simpson 1/3 Integration"
   ]
  },
  {
   "cell_type": "code",
   "execution_count": 35,
   "id": "4df5222d",
   "metadata": {},
   "outputs": [
    {
     "name": "stdout",
     "output_type": "stream",
     "text": [
      "The simpson 1/3 integration result is:  0.24999999999999994\n"
     ]
    }
   ],
   "source": [
    "def simpson13(z):    \n",
    "    \n",
    "    # working with the y integral\n",
    "    x = np.zeros(N+1)\n",
    "    for i in range(0,N+1):\n",
    "        for j in range(0,N+1):\n",
    "            if j==0 or j==N:\n",
    "                x[i] = x[i] + z[i,j]\n",
    "            elif j%2==0 and j!=(0 or N):\n",
    "                x[i] = x[i] + (2*z[i,j])\n",
    "            else:\n",
    "                x[i] = x[i] + (4*z[i,j])\n",
    "    x = (h/3)*x\n",
    "    #print(x)\n",
    "\n",
    "    # working with the x integral\n",
    "    integration = 0\n",
    "    for i in range(0,N+1):\n",
    "        if i==0 or i==N:\n",
    "            integration = integration + x[i]\n",
    "        elif i%2==0 and i!=(0 or N):\n",
    "            integration = integration + (2*x[i])\n",
    "        else:\n",
    "            integration = integration + (4*x[i])\n",
    "\n",
    "    integration = (k/3)*integration\n",
    "    return integration\n",
    "\n",
    "result = simpson13(f_xy)\n",
    "print(\"The simpson 1/3 integration result is: \",result)"
   ]
  },
  {
   "cell_type": "markdown",
   "id": "2af55aa4",
   "metadata": {},
   "source": [
    "### Simpson 3/8 Integration"
   ]
  },
  {
   "cell_type": "code",
   "execution_count": 37,
   "id": "90f9beb5",
   "metadata": {},
   "outputs": [
    {
     "name": "stdout",
     "output_type": "stream",
     "text": [
      "The simpson 3/8 integration result is:  0.25\n"
     ]
    }
   ],
   "source": [
    "def simpson38(z):   \n",
    "    \n",
    "    # working with the y integral\n",
    "    x = np.zeros(N+1)\n",
    "    for i in range(0,N+1):\n",
    "        for j in range(0,N+1):\n",
    "            if j==0 or j==N:\n",
    "                x[i] = x[i] + z[i,j]\n",
    "            elif j%3==0 and j!=(0 or N):\n",
    "                x[i] = x[i] + (2*z[i,j])\n",
    "            else:\n",
    "                x[i] = x[i] + (3*z[i,j])\n",
    "    x = ((3*h)/8)*x\n",
    "    #print(x)\n",
    "    \n",
    "    # working with the x integral\n",
    "    integration = 0\n",
    "    for i in range(0,N+1):\n",
    "        if i==0 or i==N:\n",
    "            integration = integration + x[i]\n",
    "        elif i%3==0 and i!=(0 or N):\n",
    "            integration = integration + (2*x[i])\n",
    "        else:\n",
    "            integration = integration + (3*x[i])\n",
    "\n",
    "    integration = ((3*k)/8)*integration\n",
    "    return integration\n",
    "\n",
    "result = simpson38(f_xy)\n",
    "print(\"The simpson 3/8 integration result is: \",result)"
   ]
  },
  {
   "cell_type": "markdown",
   "id": "1eb69cd4",
   "metadata": {},
   "source": [
    "### Method Selection"
   ]
  },
  {
   "cell_type": "code",
   "execution_count": 32,
   "id": "606b1b95",
   "metadata": {},
   "outputs": [
    {
     "name": "stdout",
     "output_type": "stream",
     "text": [
      "Do you wanna go with the trapezoidal method(yes = 1, no = 0):0\n",
      "\n",
      "The simpson 3/8 integration result is:  2.1875\n"
     ]
    }
   ],
   "source": [
    "query = int(input(\"Do you wanna go with the trapezoidal method(yes = 1, no = 0):\"))\n",
    "if query == 1:\n",
    "    result = trapezoidal(f_xy)\n",
    "    print(\"\\nThe trapezoidal integration result is: \",result)\n",
    "    \n",
    "else:\n",
    "    if N%2==0 and N%3!=0:\n",
    "        result = simpson13(f_xy)\n",
    "        print(\"\\nThe simpson 1/3 integration result is: \",result)\n",
    "    elif N%3==0 and N%2!=0:\n",
    "        result = simpson38(f_xy)\n",
    "        print(\"\\nThe simpson 3/8 integration result is: \",result)\n",
    "    else:\n",
    "        query1 = int(input(\"\\nWhich method do you wanna go with(simpson 1/3 = 0, simpson 3/8 = 1):\"))\n",
    "        if query1 == 0:\n",
    "            result = simpson13(f_xy)\n",
    "            print(\"\\nThe simpson 1/3 integration result is: \",result)\n",
    "        elif query1 == 1:\n",
    "            result = simpson38(f_xy)\n",
    "            print(\"\\nThe simpson 3/8 integration result is: \",result)"
   ]
  },
  {
   "cell_type": "markdown",
   "id": "d756ebe3",
   "metadata": {},
   "source": []
  },
  {
   "cell_type": "code",
   "execution_count": null,
   "id": "99a56882",
   "metadata": {},
   "outputs": [],
   "source": []
  }
 ],
 "metadata": {
  "kernelspec": {
   "display_name": "Python 3 (ipykernel)",
   "language": "python",
   "name": "python3"
  },
  "language_info": {
   "codemirror_mode": {
    "name": "ipython",
    "version": 3
   },
   "file_extension": ".py",
   "mimetype": "text/x-python",
   "name": "python",
   "nbconvert_exporter": "python",
   "pygments_lexer": "ipython3",
   "version": "3.9.11"
  }
 },
 "nbformat": 4,
 "nbformat_minor": 5
}
